{
 "cells": [
  {
   "cell_type": "code",
   "execution_count": 8,
   "source": [
    "import pandas as pd\n",
    "from tqdm import tqdm\n",
    "import string\n",
    "import re \n",
    "import numpy as np\n",
    "\n",
    "import spacy\n",
    "from spacy.tokens import DocBin\n",
    "from spacy.lang.ru.stop_words import STOP_WORDS\n",
    "from nltk.corpus import stopwords\n",
    "\n",
    "from sklearn.model_selection import train_test_split\n",
    "from sklearn.metrics import accuracy_score\n",
    "from sklearn.preprocessing import LabelEncoder\n",
    "from sklearn.pipeline import Pipeline\n",
    "from sklearn.feature_extraction.text import TfidfVectorizer, CountVectorizer\n",
    "from sklearn.linear_model import SGDClassifier\n",
    "from sklearn import metrics\n",
    "from sklearn.model_selection import GridSearchCV\n",
    "\n",
    "import warnings\n",
    "warnings.simplefilter(\"ignore\")"
   ],
   "outputs": [],
   "metadata": {}
  },
  {
   "cell_type": "markdown",
   "source": [
    "# Предобработка текста"
   ],
   "metadata": {}
  },
  {
   "cell_type": "code",
   "execution_count": 9,
   "source": [
    "nlp = spacy.load('ru_core_news_lg')\n",
    "\n",
    "stopwords_nltk = stopwords.words('russian')\n",
    "stopwords_spacy = STOP_WORDS"
   ],
   "outputs": [],
   "metadata": {}
  },
  {
   "cell_type": "code",
   "execution_count": 10,
   "source": [
    "def remove_emoji(text):\n",
    "    emoji_pattern = re.compile(\"[\"\n",
    "                           u\"\\U0001F600-\\U0001F64F\"  # emoticons\n",
    "                           u\"\\U0001F300-\\U0001F5FF\"  # symbols & pictographs\n",
    "                           u\"\\U0001F680-\\U0001F6FF\"  # transport & map symbols\n",
    "                           u\"\\U0001F1E0-\\U0001F1FF\"  # flags (iOS)\n",
    "                           u\"\\U00002702-\\U000027B0\"\n",
    "                           u\"\\U000024C2-\\U0001F251\"\n",
    "                           \"]+\", flags=re.UNICODE)\n",
    "    return emoji_pattern.sub(r'', text)"
   ],
   "outputs": [],
   "metadata": {}
  },
  {
   "cell_type": "code",
   "execution_count": 11,
   "source": [
    "def remove_url(text): \n",
    "    url_pattern  = re.compile('http[s]?://(?:[a-zA-Z]|[0-9]|[$-_@.&+]|[!*\\(\\),]|(?:%[0-9a-fA-F][0-9a-fA-F]))+')\n",
    "    return url_pattern.sub(r'', text)"
   ],
   "outputs": [],
   "metadata": {}
  },
  {
   "cell_type": "code",
   "execution_count": 12,
   "source": [
    "def clean_text(text):\n",
    "    doc = nlp(text)\n",
    "    return (\" \".join(token.text for token in doc if not token.is_punct)).lower()"
   ],
   "outputs": [],
   "metadata": {}
  },
  {
   "cell_type": "code",
   "execution_count": 13,
   "source": [
    "def lemma(text):\n",
    "    doc = nlp(text)\n",
    "    return \" \".join([token.lemma_.lower().strip() for token in doc if token.lemma_ != '-PRON-'])"
   ],
   "outputs": [],
   "metadata": {}
  },
  {
   "cell_type": "code",
   "execution_count": 14,
   "source": [
    "def stop_words(text):\n",
    "    doc = nlp(text)\n",
    "    return ' '.join([token.text for token in doc if token.text not in stopwords_spacy])"
   ],
   "outputs": [],
   "metadata": {}
  },
  {
   "cell_type": "code",
   "execution_count": 15,
   "source": [
    "def clean_space(text):\n",
    "    text = text.strip().replace(\"\\n\", \" \").replace(\"\\r\", \" \")\n",
    "    text = text.replace('  ', ' ').replace('   ', ' ')\n",
    "    return text"
   ],
   "outputs": [],
   "metadata": {}
  },
  {
   "cell_type": "markdown",
   "source": [
    "# Классификатор (вакансия/невакансия)"
   ],
   "metadata": {}
  },
  {
   "cell_type": "markdown",
   "source": [
    "## Spacy classifier"
   ],
   "metadata": {}
  },
  {
   "cell_type": "code",
   "execution_count": 9,
   "source": [
    "# import json\n",
    "# with open('./all.jsonl', 'r', encoding='utf-8') as f:\n",
    "#     json_list = list(f)"
   ],
   "outputs": [],
   "metadata": {}
  },
  {
   "cell_type": "code",
   "execution_count": 10,
   "source": [
    "# main = pd.DataFrame(columns=['data', 'salary'])"
   ],
   "outputs": [],
   "metadata": {}
  },
  {
   "cell_type": "code",
   "execution_count": 11,
   "source": [
    "# for json_str in json_list:\n",
    "#     result = json.loads(json_str)\n",
    "#     df = pd.DataFrame(result)\n",
    "#     if len(df.label) != 0:\n",
    "#         df['salary'] = df.data[0][df.label[0][0]:df.label[0][1]]\n",
    "#     else:\n",
    "#         df['salary'] = None\n",
    "#     df = df[['data', 'salary']]\n",
    "#     main = main.append(df)\n"
   ],
   "outputs": [],
   "metadata": {}
  },
  {
   "cell_type": "code",
   "execution_count": 12,
   "source": [
    "# main.columns = ['text', 'salary']\n",
    "# main"
   ],
   "outputs": [],
   "metadata": {}
  },
  {
   "cell_type": "code",
   "execution_count": 13,
   "source": [
    "# non_vacancy = pd.read_csv('./non_vacancy.csv')\n",
    "# vacancy = pd.read_csv('./vacancy.csv')"
   ],
   "outputs": [],
   "metadata": {}
  },
  {
   "cell_type": "code",
   "execution_count": 14,
   "source": [
    "# it = pd.read_csv('./df_it_short2.csv')\n",
    "# it.columns = ['text', 'IT'] "
   ],
   "outputs": [],
   "metadata": {}
  },
  {
   "cell_type": "code",
   "execution_count": 15,
   "source": [
    "# df = pd.concat([non_vacancy, vacancy]).reset_index(drop=True)\n",
    "# df = df.drop_duplicates()\n",
    "# df.shape"
   ],
   "outputs": [],
   "metadata": {}
  },
  {
   "cell_type": "code",
   "execution_count": 16,
   "source": [
    "# df = df.merge(it, how='left', on='text').drop_duplicates()\n",
    "# df.shape"
   ],
   "outputs": [],
   "metadata": {}
  },
  {
   "cell_type": "code",
   "execution_count": 17,
   "source": [
    "# df['vacancy'] =  df.label\n",
    "# df.loc[df.vacancy != 0, 'vacancy'] = 1"
   ],
   "outputs": [],
   "metadata": {}
  },
  {
   "cell_type": "code",
   "execution_count": 18,
   "source": [
    "# df  = df.merge(main, how='left', on='text').drop_duplicates()"
   ],
   "outputs": [],
   "metadata": {}
  },
  {
   "cell_type": "code",
   "execution_count": 19,
   "source": [
    "# df = df.reset_index(drop=True)[['text', 'vacancy', 'IT', 'label', 'salary']]\n",
    "# df.loc[df.label == 0, 'label'] = np.nan\n",
    "# df.loc[df.vacancy == 0, ['IT', 'label', 'salary']] = np.nan\n",
    "# df"
   ],
   "outputs": [],
   "metadata": {}
  },
  {
   "cell_type": "code",
   "execution_count": 20,
   "source": [
    "# df.to_csv('main.csv', index=False)"
   ],
   "outputs": [],
   "metadata": {}
  },
  {
   "cell_type": "code",
   "execution_count": 21,
   "source": [
    "df = pd.read_csv('./main.csv')\n",
    "df.sample(5)"
   ],
   "outputs": [
    {
     "output_type": "execute_result",
     "data": {
      "text/plain": [
       "                                                   text  vacancy  IT  \\\n",
       "2285  #vacancy #kharkiv #recruiter #fulltime #ваканс...        1 NaN   \n",
       "5825  #vacancy #java #techlead #senior #middle #remo...        1 NaN   \n",
       "5878  • Senior Backend Developer (Python-разработчик...        1 NaN   \n",
       "5163  #php #москва #backend\\n\\nBackend-разработчик (...        1 NaN   \n",
       "5474  #вакансия #mobile #developer #senior #middle #...        1 NaN   \n",
       "\n",
       "                    label salary  \n",
       "2285        HR-специалист    NaN  \n",
       "5825     Java-разработчик    NaN  \n",
       "5878  Backend-разработчик    NaN  \n",
       "5163  Backend-разработчик    NaN  \n",
       "5474  Android-разработчик    NaN  "
      ],
      "text/html": [
       "<div>\n",
       "<style scoped>\n",
       "    .dataframe tbody tr th:only-of-type {\n",
       "        vertical-align: middle;\n",
       "    }\n",
       "\n",
       "    .dataframe tbody tr th {\n",
       "        vertical-align: top;\n",
       "    }\n",
       "\n",
       "    .dataframe thead th {\n",
       "        text-align: right;\n",
       "    }\n",
       "</style>\n",
       "<table border=\"1\" class=\"dataframe\">\n",
       "  <thead>\n",
       "    <tr style=\"text-align: right;\">\n",
       "      <th></th>\n",
       "      <th>text</th>\n",
       "      <th>vacancy</th>\n",
       "      <th>IT</th>\n",
       "      <th>label</th>\n",
       "      <th>salary</th>\n",
       "    </tr>\n",
       "  </thead>\n",
       "  <tbody>\n",
       "    <tr>\n",
       "      <th>2285</th>\n",
       "      <td>#vacancy #kharkiv #recruiter #fulltime #ваканс...</td>\n",
       "      <td>1</td>\n",
       "      <td>NaN</td>\n",
       "      <td>HR-специалист</td>\n",
       "      <td>NaN</td>\n",
       "    </tr>\n",
       "    <tr>\n",
       "      <th>5825</th>\n",
       "      <td>#vacancy #java #techlead #senior #middle #remo...</td>\n",
       "      <td>1</td>\n",
       "      <td>NaN</td>\n",
       "      <td>Java-разработчик</td>\n",
       "      <td>NaN</td>\n",
       "    </tr>\n",
       "    <tr>\n",
       "      <th>5878</th>\n",
       "      <td>• Senior Backend Developer (Python-разработчик...</td>\n",
       "      <td>1</td>\n",
       "      <td>NaN</td>\n",
       "      <td>Backend-разработчик</td>\n",
       "      <td>NaN</td>\n",
       "    </tr>\n",
       "    <tr>\n",
       "      <th>5163</th>\n",
       "      <td>#php #москва #backend\\n\\nBackend-разработчик (...</td>\n",
       "      <td>1</td>\n",
       "      <td>NaN</td>\n",
       "      <td>Backend-разработчик</td>\n",
       "      <td>NaN</td>\n",
       "    </tr>\n",
       "    <tr>\n",
       "      <th>5474</th>\n",
       "      <td>#вакансия #mobile #developer #senior #middle #...</td>\n",
       "      <td>1</td>\n",
       "      <td>NaN</td>\n",
       "      <td>Android-разработчик</td>\n",
       "      <td>NaN</td>\n",
       "    </tr>\n",
       "  </tbody>\n",
       "</table>\n",
       "</div>"
      ]
     },
     "metadata": {},
     "execution_count": 21
    }
   ],
   "metadata": {}
  },
  {
   "cell_type": "code",
   "execution_count": 22,
   "source": [
    "df.text = df.text.apply(clean_text).apply(clean_space).apply(lemma).apply(stop_words)\n",
    "df = df[df.text != '']"
   ],
   "outputs": [],
   "metadata": {}
  },
  {
   "cell_type": "markdown",
   "source": [
    "### DocBin"
   ],
   "metadata": {}
  },
  {
   "cell_type": "code",
   "execution_count": 26,
   "source": [
    "nlp = spacy.load('ru_core_news_lg')"
   ],
   "outputs": [],
   "metadata": {}
  },
  {
   "cell_type": "code",
   "execution_count": 27,
   "source": [
    "train, test = train_test_split(df, test_size=0.25, random_state=25)\n",
    "\n",
    "train_data = []\n",
    "test_data = []\n",
    "\n",
    "for i in range(len(train)):\n",
    "    train_data.append((train.iloc[i, 0], train.iloc[i, 1]))\n",
    "\n",
    "for i in range(len(test)):\n",
    "    test_data.append((test.iloc[i, 0], test.iloc[i, 1]))"
   ],
   "outputs": [],
   "metadata": {}
  },
  {
   "cell_type": "code",
   "execution_count": 28,
   "source": [
    "def make_docs(data):\n",
    "    docs = []\n",
    "    for doc, label in tqdm(nlp.pipe(data, as_tuples=True), total=len(data)):\n",
    "        doc.cats['vacancy'] = label\n",
    "        docs.append(doc)\n",
    "    return docs"
   ],
   "outputs": [],
   "metadata": {}
  },
  {
   "cell_type": "code",
   "execution_count": 29,
   "source": [
    "train_docs = make_docs(train_data)\n",
    "doc_bin = DocBin(docs=train_docs)\n",
    "doc_bin.to_disk('./class_text/train.spacy')\n",
    "\n",
    "test_docs = make_docs(test_data)\n",
    "doc_bin = DocBin(docs=test_docs)\n",
    "doc_bin.to_disk('./class_text/test.spacy')\n"
   ],
   "outputs": [
    {
     "output_type": "stream",
     "name": "stderr",
     "text": [
      "100%|██████████| 4957/4957 [01:51<00:00, 44.48it/s]\n",
      "100%|██████████| 1653/1653 [00:40<00:00, 40.59it/s]\n"
     ]
    }
   ],
   "metadata": {}
  },
  {
   "cell_type": "markdown",
   "source": [
    "### Проверка качества модели"
   ],
   "metadata": {}
  },
  {
   "cell_type": "code",
   "execution_count": 33,
   "source": [
    "nlp = spacy.load('./class_text/model-best')\n",
    "test.reset_index(drop=True, inplace=True)\n",
    "\n",
    "for i in tqdm(range(len(test))):\n",
    "    doc = nlp(test.iloc[i, 0])\n",
    "    test.loc[i, 'predict'] = doc.cats['vacancy']\n",
    "\n",
    "test.predict = test.predict.round()\n",
    "test.predict = test.predict.astype('int32')"
   ],
   "outputs": [
    {
     "output_type": "stream",
     "name": "stderr",
     "text": [
      "100%|██████████| 1653/1653 [00:01<00:00, 878.28it/s] \n"
     ]
    }
   ],
   "metadata": {}
  },
  {
   "cell_type": "code",
   "execution_count": 40,
   "source": [
    "print(metrics.classification_report(test.predict, test.vacancy))"
   ],
   "outputs": [
    {
     "output_type": "stream",
     "name": "stdout",
     "text": [
      "              precision    recall  f1-score   support\n",
      "\n",
      "           0       0.92      0.96      0.94       547\n",
      "           1       0.98      0.96      0.97      1106\n",
      "\n",
      "    accuracy                           0.96      1653\n",
      "   macro avg       0.95      0.96      0.95      1653\n",
      "weighted avg       0.96      0.96      0.96      1653\n",
      "\n"
     ]
    }
   ],
   "metadata": {}
  },
  {
   "cell_type": "code",
   "execution_count": 43,
   "source": [
    "(test.vacancy != test.predict).sum()"
   ],
   "outputs": [
    {
     "output_type": "execute_result",
     "data": {
      "text/plain": [
       "68"
      ]
     },
     "metadata": {},
     "execution_count": 43
    }
   ],
   "metadata": {}
  },
  {
   "cell_type": "markdown",
   "source": [
    "## SGDClassifier "
   ],
   "metadata": {}
  },
  {
   "cell_type": "code",
   "execution_count": 51,
   "source": [
    "df = pd.read_csv('./main.csv')"
   ],
   "outputs": [],
   "metadata": {}
  },
  {
   "cell_type": "code",
   "execution_count": 52,
   "source": [
    "df.vacancy.value_counts()"
   ],
   "outputs": [
    {
     "output_type": "execute_result",
     "data": {
      "text/plain": [
       "1    4388\n",
       "0    2242\n",
       "Name: vacancy, dtype: int64"
      ]
     },
     "metadata": {},
     "execution_count": 52
    }
   ],
   "metadata": {}
  },
  {
   "cell_type": "code",
   "execution_count": 53,
   "source": [
    "nlp = spacy.load('ru_core_news_lg')\n",
    "\n",
    "stopwords_nltk = stopwords.words('russian')\n",
    "stopwords_spacy = STOP_WORDS"
   ],
   "outputs": [],
   "metadata": {}
  },
  {
   "cell_type": "code",
   "execution_count": null,
   "source": [
    "df.text = df.text.apply(remove_emoji).apply(clean_text).apply(clean_space).apply(lemma).apply(stop_words)\n",
    "df = df[df.text != '']"
   ],
   "outputs": [],
   "metadata": {}
  },
  {
   "cell_type": "code",
   "execution_count": 40,
   "source": [
    "train, test = train_test_split(df, test_size=0.25, random_state=25)"
   ],
   "outputs": [],
   "metadata": {}
  },
  {
   "cell_type": "code",
   "execution_count": 55,
   "source": [
    "sgd_ppl_clf = Pipeline([('tfidf', TfidfVectorizer()),\n",
    "                        ('sgd_clf', SGDClassifier(random_state=42))])\n",
    "\n",
    "sgd_ppl_clf.fit(train.text, train.vacancy)"
   ],
   "outputs": [
    {
     "output_type": "execute_result",
     "data": {
      "text/plain": [
       "Pipeline(steps=[('tfidf', TfidfVectorizer()),\n",
       "                ('sgd_clf', SGDClassifier(random_state=42))])"
      ]
     },
     "metadata": {},
     "execution_count": 55
    }
   ],
   "metadata": {}
  },
  {
   "cell_type": "code",
   "execution_count": 56,
   "source": [
    "predicted_sgd = sgd_ppl_clf.predict(test.text)\n",
    "print(metrics.classification_report(predicted_sgd, test.vacancy))"
   ],
   "outputs": [
    {
     "output_type": "stream",
     "name": "stdout",
     "text": [
      "              precision    recall  f1-score   support\n",
      "\n",
      "           0       0.91      0.96      0.94       536\n",
      "           1       0.98      0.95      0.97      1117\n",
      "\n",
      "    accuracy                           0.96      1653\n",
      "   macro avg       0.95      0.96      0.95      1653\n",
      "weighted avg       0.96      0.96      0.96      1653\n",
      "\n"
     ]
    }
   ],
   "metadata": {}
  },
  {
   "cell_type": "code",
   "execution_count": 59,
   "source": [
    "test['predict'] = predicted_sgd\n",
    "(test.vacancy != test.predict).sum()"
   ],
   "outputs": [
    {
     "output_type": "execute_result",
     "data": {
      "text/plain": [
       "71"
      ]
     },
     "metadata": {},
     "execution_count": 59
    }
   ],
   "metadata": {}
  },
  {
   "cell_type": "markdown",
   "source": [
    "# IT / Не IT"
   ],
   "metadata": {}
  },
  {
   "cell_type": "code",
   "execution_count": 37,
   "source": [
    "df = pd.read_csv('./main.csv')\n",
    "df = df[df.IT.notna()]"
   ],
   "outputs": [],
   "metadata": {}
  },
  {
   "cell_type": "code",
   "execution_count": 38,
   "source": [
    "df.text = df.text.apply(clean_text).apply(clean_space).apply(lemma).apply(stop_words)\n",
    "df = df[df.text != '']"
   ],
   "outputs": [],
   "metadata": {}
  },
  {
   "cell_type": "markdown",
   "source": [
    "## Spacy classifier"
   ],
   "metadata": {}
  },
  {
   "cell_type": "code",
   "execution_count": 39,
   "source": [
    "nlp = spacy.load('ru_core_news_lg')"
   ],
   "outputs": [],
   "metadata": {}
  },
  {
   "cell_type": "code",
   "execution_count": 40,
   "source": [
    "df.IT = df.IT.astype('int')\n",
    "df.sample(3)"
   ],
   "outputs": [
    {
     "output_type": "execute_result",
     "data": {
      "text/plain": [
       "                                                   text  vacancy  IT  \\\n",
       "3674  ∞   продакт менеджер команда бизнес инкубатор ...        1   1   \n",
       "2354  вакансия qa manual remote fulltime middle regu...        1   1   \n",
       "4280  smm vacancy kharkiv   🖍 the chi software   is ...        1   0   \n",
       "\n",
       "                 label salary  \n",
       "3674  Product-менеджер    NaN  \n",
       "2354        QA-Инженер    NaN  \n",
       "4280            non-IT    NaN  "
      ],
      "text/html": [
       "<div>\n",
       "<style scoped>\n",
       "    .dataframe tbody tr th:only-of-type {\n",
       "        vertical-align: middle;\n",
       "    }\n",
       "\n",
       "    .dataframe tbody tr th {\n",
       "        vertical-align: top;\n",
       "    }\n",
       "\n",
       "    .dataframe thead th {\n",
       "        text-align: right;\n",
       "    }\n",
       "</style>\n",
       "<table border=\"1\" class=\"dataframe\">\n",
       "  <thead>\n",
       "    <tr style=\"text-align: right;\">\n",
       "      <th></th>\n",
       "      <th>text</th>\n",
       "      <th>vacancy</th>\n",
       "      <th>IT</th>\n",
       "      <th>label</th>\n",
       "      <th>salary</th>\n",
       "    </tr>\n",
       "  </thead>\n",
       "  <tbody>\n",
       "    <tr>\n",
       "      <th>3674</th>\n",
       "      <td>∞   продакт менеджер команда бизнес инкубатор ...</td>\n",
       "      <td>1</td>\n",
       "      <td>1</td>\n",
       "      <td>Product-менеджер</td>\n",
       "      <td>NaN</td>\n",
       "    </tr>\n",
       "    <tr>\n",
       "      <th>2354</th>\n",
       "      <td>вакансия qa manual remote fulltime middle regu...</td>\n",
       "      <td>1</td>\n",
       "      <td>1</td>\n",
       "      <td>QA-Инженер</td>\n",
       "      <td>NaN</td>\n",
       "    </tr>\n",
       "    <tr>\n",
       "      <th>4280</th>\n",
       "      <td>smm vacancy kharkiv   🖍 the chi software   is ...</td>\n",
       "      <td>1</td>\n",
       "      <td>0</td>\n",
       "      <td>non-IT</td>\n",
       "      <td>NaN</td>\n",
       "    </tr>\n",
       "  </tbody>\n",
       "</table>\n",
       "</div>"
      ]
     },
     "metadata": {},
     "execution_count": 40
    }
   ],
   "metadata": {}
  },
  {
   "cell_type": "code",
   "execution_count": 41,
   "source": [
    "train, test = train_test_split(df, test_size=0.25, random_state=25)\n",
    "\n",
    "train_data = []\n",
    "test_data = []\n",
    "\n",
    "for i in range(len(train)):\n",
    "    train_data.append((train.iloc[i, 0], train.iloc[i, 2]))\n",
    "\n",
    "for i in range(len(test)):\n",
    "    test_data.append((test.iloc[i, 0], test.iloc[i, 2]))"
   ],
   "outputs": [],
   "metadata": {}
  },
  {
   "cell_type": "code",
   "execution_count": 42,
   "source": [
    "def make_docs(data):\n",
    "    docs = []\n",
    "    for doc, label in tqdm(nlp.pipe(data, as_tuples=True), total=len(data)):\n",
    "        doc.cats['IT'] = label\n",
    "        docs.append(doc)\n",
    "    return docs"
   ],
   "outputs": [],
   "metadata": {}
  },
  {
   "cell_type": "code",
   "execution_count": 43,
   "source": [
    "train_docs = make_docs(train_data)\n",
    "doc_bin = DocBin(docs=train_docs)\n",
    "doc_bin.to_disk('./it/train.spacy')\n",
    "\n",
    "test_docs = make_docs(test_data)\n",
    "doc_bin = DocBin(docs=test_docs)\n",
    "doc_bin.to_disk('./it/test.spacy')\n"
   ],
   "outputs": [
    {
     "output_type": "stream",
     "name": "stderr",
     "text": [
      "100%|██████████| 753/753 [00:21<00:00, 35.49it/s]\n",
      "100%|██████████| 252/252 [00:06<00:00, 36.84it/s]\n"
     ]
    }
   ],
   "metadata": {}
  },
  {
   "cell_type": "markdown",
   "source": [
    "### Проверка качества модели"
   ],
   "metadata": {}
  },
  {
   "cell_type": "code",
   "execution_count": 59,
   "source": [
    "nlp = spacy.load('./it/model-best')\n",
    "test.reset_index(drop=True, inplace=True)\n",
    "\n",
    "for i in tqdm(range(len(test))):\n",
    "    doc = nlp(test.iloc[i, 0])\n",
    "    test.loc[i, 'predict'] = doc.cats['IT']\n",
    "\n",
    "test.predict = test.predict.round()\n",
    "test.predict = test.predict.astype('int32')"
   ],
   "outputs": [
    {
     "output_type": "stream",
     "name": "stderr",
     "text": [
      "100%|██████████| 252/252 [00:00<00:00, 563.01it/s]\n"
     ]
    }
   ],
   "metadata": {}
  },
  {
   "cell_type": "code",
   "execution_count": 60,
   "source": [
    "print(metrics.classification_report(test.predict, test.IT))"
   ],
   "outputs": [
    {
     "output_type": "stream",
     "name": "stdout",
     "text": [
      "              precision    recall  f1-score   support\n",
      "\n",
      "           0       0.89      0.81      0.85        59\n",
      "           1       0.94      0.97      0.96       193\n",
      "\n",
      "    accuracy                           0.93       252\n",
      "   macro avg       0.92      0.89      0.90       252\n",
      "weighted avg       0.93      0.93      0.93       252\n",
      "\n"
     ]
    }
   ],
   "metadata": {}
  },
  {
   "cell_type": "code",
   "execution_count": 62,
   "source": [
    "(test.IT != test.predict).sum()"
   ],
   "outputs": [
    {
     "output_type": "execute_result",
     "data": {
      "text/plain": [
       "17"
      ]
     },
     "metadata": {},
     "execution_count": 62
    }
   ],
   "metadata": {}
  },
  {
   "cell_type": "markdown",
   "source": [
    "## SGDClassifier "
   ],
   "metadata": {}
  },
  {
   "cell_type": "code",
   "execution_count": 64,
   "source": [
    "sgd_ppl_clf = Pipeline([('tfidf', TfidfVectorizer()),\n",
    "                        ('sgd_clf', SGDClassifier(random_state=42))])\n",
    "\n",
    "sgd_ppl_clf.fit(train.text, train.IT)"
   ],
   "outputs": [
    {
     "output_type": "execute_result",
     "data": {
      "text/plain": [
       "Pipeline(steps=[('tfidf', TfidfVectorizer()),\n",
       "                ('sgd_clf', SGDClassifier(random_state=42))])"
      ]
     },
     "metadata": {},
     "execution_count": 64
    }
   ],
   "metadata": {}
  },
  {
   "cell_type": "code",
   "execution_count": 67,
   "source": [
    "predicted_sgd = sgd_ppl_clf.predict(test.text)\n",
    "print(metrics.classification_report(predicted_sgd, test.IT))"
   ],
   "outputs": [
    {
     "output_type": "stream",
     "name": "stdout",
     "text": [
      "              precision    recall  f1-score   support\n",
      "\n",
      "           0       0.87      0.81      0.84        58\n",
      "           1       0.94      0.96      0.95       194\n",
      "\n",
      "    accuracy                           0.93       252\n",
      "   macro avg       0.91      0.89      0.90       252\n",
      "weighted avg       0.93      0.93      0.93       252\n",
      "\n"
     ]
    }
   ],
   "metadata": {}
  },
  {
   "cell_type": "code",
   "execution_count": 70,
   "source": [
    "test['predict'] = predicted_sgd\n",
    "(test.IT != test.predict).sum()"
   ],
   "outputs": [
    {
     "output_type": "execute_result",
     "data": {
      "text/plain": [
       "18"
      ]
     },
     "metadata": {},
     "execution_count": 70
    }
   ],
   "metadata": {}
  },
  {
   "cell_type": "markdown",
   "source": [
    "# Классификация названиий вакансий"
   ],
   "metadata": {}
  },
  {
   "cell_type": "code",
   "execution_count": 71,
   "source": [
    "nlp = spacy.load('ru_core_news_lg')\n",
    "\n",
    "stopwords_nltk = stopwords.words('russian')\n",
    "stopwords_spacy = STOP_WORDS"
   ],
   "outputs": [],
   "metadata": {}
  },
  {
   "cell_type": "code",
   "execution_count": 81,
   "source": [
    "df = pd.read_csv('./main.csv')\n",
    "df = df[df.label.notna()]\n",
    "df = df[df.label != 'non-IT']"
   ],
   "outputs": [],
   "metadata": {}
  },
  {
   "cell_type": "code",
   "execution_count": 82,
   "source": [
    "unknown = df.label.value_counts()[df.label.value_counts() < 70].index\n",
    "df.loc[df.label.isin(unknown), 'label'] = 'unknown'"
   ],
   "outputs": [],
   "metadata": {}
  },
  {
   "cell_type": "code",
   "execution_count": 83,
   "source": [
    "# mask = df.label.value_counts()[df.label.value_counts() > 100].index\n",
    "# df = df[df.label.isin(mask)]\n",
    "# df.reset_index(drop=True, inplace=True)"
   ],
   "outputs": [],
   "metadata": {}
  },
  {
   "cell_type": "code",
   "execution_count": 84,
   "source": [
    "df.label.value_counts()"
   ],
   "outputs": [
    {
     "output_type": "execute_result",
     "data": {
      "text/plain": [
       "unknown                 1064\n",
       "Java-разработчик         346\n",
       "iOS-разработчик          238\n",
       "QA-Инженер               236\n",
       "Python-разработчик       230\n",
       "Frontend-разработчик     227\n",
       "Android-разработчик      224\n",
       "Product-менеджер         210\n",
       "1C-разработчик           194\n",
       "PHP-разработчик          183\n",
       "Project-менеджер         145\n",
       "Ruby-разработчик         125\n",
       "Backend-разработчик      116\n",
       "Несколько вакансий       100\n",
       "UX/UI-дизайнер            72\n",
       "Name: label, dtype: int64"
      ]
     },
     "metadata": {},
     "execution_count": 84
    }
   ],
   "metadata": {}
  },
  {
   "cell_type": "code",
   "execution_count": 85,
   "source": [
    "encoder = LabelEncoder()\n",
    "df.label = encoder.fit_transform(df.label)"
   ],
   "outputs": [],
   "metadata": {}
  },
  {
   "cell_type": "code",
   "execution_count": 86,
   "source": [
    "df.text = df.text.apply(remove_emoji).apply(clean_text).apply(clean_space).apply(lemma).apply(stop_words)\n",
    "df = df[df.text != '']"
   ],
   "outputs": [],
   "metadata": {}
  },
  {
   "cell_type": "code",
   "execution_count": 87,
   "source": [
    "train, test = train_test_split(df, test_size=0.25, random_state=25)"
   ],
   "outputs": [],
   "metadata": {}
  },
  {
   "cell_type": "markdown",
   "source": [
    "## LogisticRegression"
   ],
   "metadata": {}
  },
  {
   "cell_type": "code",
   "execution_count": 88,
   "source": [
    "from sklearn.linear_model import LogisticRegression"
   ],
   "outputs": [],
   "metadata": {}
  },
  {
   "cell_type": "code",
   "execution_count": 89,
   "source": [
    "log_ppl_clf = Pipeline([('tfidf', TfidfVectorizer()),\n",
    "                        ('log_clf', LogisticRegression(random_state=42, class_weight='balanced'))])"
   ],
   "outputs": [],
   "metadata": {}
  },
  {
   "cell_type": "code",
   "execution_count": 90,
   "source": [
    "log_ppl_clf.fit(train.text, train.label)"
   ],
   "outputs": [
    {
     "output_type": "execute_result",
     "data": {
      "text/plain": [
       "Pipeline(steps=[('tfidf', TfidfVectorizer()),\n",
       "                ('log_clf',\n",
       "                 LogisticRegression(class_weight='balanced', random_state=42))])"
      ]
     },
     "metadata": {},
     "execution_count": 90
    }
   ],
   "metadata": {}
  },
  {
   "cell_type": "code",
   "execution_count": 91,
   "source": [
    "predicted_log = log_ppl_clf.predict(test.text)\n",
    "print(metrics.classification_report(predicted_log, test.label))"
   ],
   "outputs": [
    {
     "output_type": "stream",
     "name": "stdout",
     "text": [
      "              precision    recall  f1-score   support\n",
      "\n",
      "           0       0.95      0.75      0.84        53\n",
      "           1       0.95      0.91      0.93        43\n",
      "           2       0.45      0.50      0.47        26\n",
      "           3       0.93      0.60      0.73        83\n",
      "           4       0.94      0.89      0.91       106\n",
      "           5       0.90      0.78      0.84        49\n",
      "           6       0.88      0.78      0.82        54\n",
      "           7       0.91      0.69      0.78        45\n",
      "           8       0.95      0.78      0.86        92\n",
      "           9       0.93      0.96      0.95        54\n",
      "          10       0.97      0.82      0.89        44\n",
      "          11       1.00      0.75      0.86        28\n",
      "          12       0.98      0.88      0.93        74\n",
      "          13       0.55      0.87      0.67       167\n",
      "          14       0.31      0.50      0.38        10\n",
      "\n",
      "    accuracy                           0.80       928\n",
      "   macro avg       0.84      0.76      0.79       928\n",
      "weighted avg       0.85      0.80      0.81       928\n",
      "\n"
     ]
    }
   ],
   "metadata": {}
  },
  {
   "cell_type": "code",
   "execution_count": 39,
   "source": [
    "parameters = { \n",
    "              'log_clf__solver':['newton-cg', 'lbfgs', 'liblinear', 'sag', 'saga'],\n",
    "              'log_clf__class_weight':[None, 'balanced'],\n",
    "              'log_clf__penalty':[None, 'l2', 'l1', 'elasticnet'],\n",
    "              'tfidf__strip_accents':['ascii', 'unicode', None],\n",
    "              'tfidf__ngram_range':[(1,2), (2,3), (3,4)]\n",
    "              }"
   ],
   "outputs": [],
   "metadata": {}
  },
  {
   "cell_type": "code",
   "execution_count": 40,
   "source": [
    "model = GridSearchCV(log_ppl_clf, parameters, cv=4, n_jobs=-1).fit(train.text, train.label)\n",
    "print('Best score and parameter combination:')\n",
    "print(model.best_score_, model.best_params_)"
   ],
   "outputs": [],
   "metadata": {}
  },
  {
   "cell_type": "code",
   "execution_count": null,
   "source": [
    "log_ppl_clf = Pipeline([('tfidf', TfidfVectorizer()),\n",
    "                        ('log_clf', LogisticRegression(random_state=42))])"
   ],
   "outputs": [],
   "metadata": {}
  },
  {
   "cell_type": "markdown",
   "source": [
    "## SGDClassifier"
   ],
   "metadata": {}
  },
  {
   "cell_type": "code",
   "execution_count": 92,
   "source": [
    "sgd_ppl_clf = Pipeline([('tfidf', TfidfVectorizer()),\n",
    "                        ('sgd_clf', SGDClassifier(random_state=42))]) \n",
    "                \n",
    "sgd_ppl_clf.fit(train.text, train.label)"
   ],
   "outputs": [
    {
     "output_type": "execute_result",
     "data": {
      "text/plain": [
       "Pipeline(steps=[('tfidf', TfidfVectorizer()),\n",
       "                ('sgd_clf', SGDClassifier(random_state=42))])"
      ]
     },
     "metadata": {},
     "execution_count": 92
    }
   ],
   "metadata": {}
  },
  {
   "cell_type": "code",
   "execution_count": 93,
   "source": [
    "predicted_sgd = sgd_ppl_clf.predict(test.text)\n",
    "print(metrics.classification_report(predicted_sgd, test.label))"
   ],
   "outputs": [
    {
     "output_type": "stream",
     "name": "stdout",
     "text": [
      "              precision    recall  f1-score   support\n",
      "\n",
      "           0       0.93      0.81      0.87        48\n",
      "           1       0.95      0.91      0.93        43\n",
      "           2       0.21      0.55      0.30        11\n",
      "           3       0.85      0.71      0.77        65\n",
      "           4       0.90      0.90      0.90       100\n",
      "           5       0.81      0.87      0.84        39\n",
      "           6       0.79      0.86      0.83        44\n",
      "           7       0.82      0.76      0.79        37\n",
      "           8       0.91      0.87      0.89        79\n",
      "           9       0.96      0.98      0.97        55\n",
      "          10       0.97      0.90      0.94        40\n",
      "          11       0.95      0.80      0.87        25\n",
      "          12       0.97      0.93      0.95        69\n",
      "          13       0.78      0.78      0.78       266\n",
      "          14       0.25      0.57      0.35         7\n",
      "\n",
      "    accuracy                           0.84       928\n",
      "   macro avg       0.80      0.81      0.80       928\n",
      "weighted avg       0.86      0.84      0.84       928\n",
      "\n"
     ]
    }
   ],
   "metadata": {}
  },
  {
   "cell_type": "code",
   "execution_count": 94,
   "source": [
    "test['predict'] = predicted_sgd\n",
    "(test.label != test.predict).sum()"
   ],
   "outputs": [
    {
     "output_type": "execute_result",
     "data": {
      "text/plain": [
       "153"
      ]
     },
     "metadata": {},
     "execution_count": 94
    }
   ],
   "metadata": {}
  },
  {
   "cell_type": "code",
   "execution_count": null,
   "source": [
    "parameters = { \n",
    "              'sgd_clf__loss':['hinge', 'log', 'modified_huber', 'squared_hinge', 'perceptron'],\n",
    "              'sgd_clf__class_weight':[None, 'balanced'],\n",
    "              'sgd_clf__penalty':[None, 'l2', 'l1', 'elasticnet'],\n",
    "              'tfidf__strip_accents':['ascii', 'unicode', None],\n",
    "              'tfidf__ngram_range':[(1,2), (2,3), (3,4)]\n",
    "              } \n",
    "              \n",
    "model = GridSearchCV(sgd_ppl_clf, parameters, cv=4, n_jobs=-1).fit(train.text, train.label)\n",
    "print('Best score and parameter combination:')\n",
    "print(model.best_score_, model.best_params_)"
   ],
   "outputs": [],
   "metadata": {}
  },
  {
   "cell_type": "code",
   "execution_count": 25,
   "source": [
    "sgd_ppl_clf = Pipeline([('tfidf', TfidfVectorizer(ngram_range=(1, 2), strip_accents='ascii')),\n",
    "                        ('sgd_clf', SGDClassifier(random_state=42, class_weight='balanced', loss='hinge', penalty='l1'))])\n",
    "\n",
    "sgd_ppl_clf.fit(train.text, train.label)\n"
   ],
   "outputs": [
    {
     "output_type": "execute_result",
     "data": {
      "text/plain": [
       "Pipeline(steps=[('tfidf',\n",
       "                 TfidfVectorizer(ngram_range=(1, 2), strip_accents='ascii')),\n",
       "                ('sgd_clf',\n",
       "                 SGDClassifier(class_weight='balanced', penalty='l1',\n",
       "                               random_state=42))])"
      ]
     },
     "metadata": {},
     "execution_count": 25
    }
   ],
   "metadata": {}
  },
  {
   "cell_type": "code",
   "execution_count": 26,
   "source": [
    "predicted_sgd = sgd_ppl_clf.predict(test.text)\n",
    "print(metrics.classification_report(predicted_sgd, test.label))"
   ],
   "outputs": [
    {
     "output_type": "stream",
     "name": "stdout",
     "text": [
      "              precision    recall  f1-score   support\n",
      "\n",
      "           0       0.83      0.65      0.73        66\n",
      "           1       1.00      0.97      0.98        59\n",
      "           2       0.64      0.49      0.55        37\n",
      "           3       0.89      0.70      0.79        71\n",
      "           4       0.53      0.56      0.54        18\n",
      "           5       0.99      0.90      0.94        96\n",
      "           6       0.91      0.82      0.86        49\n",
      "           7       0.84      0.73      0.78        56\n",
      "           8       0.70      0.62      0.66        42\n",
      "           9       0.92      0.76      0.83        79\n",
      "          10       0.96      0.93      0.95        59\n",
      "          11       1.00      0.93      0.96        41\n",
      "          12       0.94      0.85      0.89        20\n",
      "          13       1.00      0.95      0.98        64\n",
      "          14       0.58      0.86      0.70       169\n",
      "          15       0.22      0.38      0.28        13\n",
      "\n",
      "    accuracy                           0.80       939\n",
      "   macro avg       0.81      0.76      0.78       939\n",
      "weighted avg       0.83      0.80      0.81       939\n",
      "\n"
     ]
    }
   ],
   "metadata": {}
  },
  {
   "cell_type": "code",
   "execution_count": 27,
   "source": [
    "test['predict'] = predicted_sgd\n",
    "(test.label != test.predict).sum()"
   ],
   "outputs": [
    {
     "output_type": "execute_result",
     "data": {
      "text/plain": [
       "187"
      ]
     },
     "metadata": {},
     "execution_count": 27
    }
   ],
   "metadata": {}
  },
  {
   "cell_type": "code",
   "execution_count": 95,
   "source": [
    "test[test.label != test.predict].label.value_counts()"
   ],
   "outputs": [
    {
     "output_type": "execute_result",
     "data": {
      "text/plain": [
       "13    58\n",
       "2     23\n",
       "14    12\n",
       "6     10\n",
       "4     10\n",
       "5      8\n",
       "3      8\n",
       "8      7\n",
       "7      6\n",
       "0      3\n",
       "1      2\n",
       "12     2\n",
       "9      2\n",
       "11     1\n",
       "10     1\n",
       "Name: label, dtype: int64"
      ]
     },
     "metadata": {},
     "execution_count": 95
    }
   ],
   "metadata": {}
  },
  {
   "cell_type": "code",
   "execution_count": 97,
   "source": [
    "encoder.inverse_transform([13, 14, 6, 2])\n"
   ],
   "outputs": [
    {
     "output_type": "execute_result",
     "data": {
      "text/plain": [
       "array(['unknown', 'Несколько вакансий', 'Product-менеджер',\n",
       "       'Backend-разработчик'], dtype=object)"
      ]
     },
     "metadata": {},
     "execution_count": 97
    }
   ],
   "metadata": {}
  }
 ],
 "metadata": {
  "interpreter": {
   "hash": "31f2aee4e71d21fbe5cf8b01ff0e069b9275f58929596ceb00d14d90e3e16cd6"
  },
  "kernelspec": {
   "name": "python3",
   "display_name": "Python 3.8.10 64-bit"
  },
  "language_info": {
   "codemirror_mode": {
    "name": "ipython",
    "version": 3
   },
   "file_extension": ".py",
   "mimetype": "text/x-python",
   "name": "python",
   "nbconvert_exporter": "python",
   "pygments_lexer": "ipython3",
   "version": "3.8.10"
  },
  "toc-autonumbering": false,
  "toc-showcode": true,
  "toc-showmarkdowntxt": false,
  "toc-showtags": false
 },
 "nbformat": 4,
 "nbformat_minor": 4
}